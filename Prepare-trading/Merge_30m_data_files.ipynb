{
 "cells": [
  {
   "cell_type": "markdown",
   "metadata": {},
   "source": [
    "Merge data files"
   ]
  },
  {
   "cell_type": "code",
   "execution_count": 1,
   "metadata": {},
   "outputs": [],
   "source": [
    "import pandas as pd\n",
    "import fxcmpy\n",
    "from pylab import plt\n",
    "import datetime as dt\n",
    "import numpy as np\n",
    "import time\n",
    "import os\n",
    "import sys\n",
    "%matplotlib inline\n",
    "plt.style.use('seaborn')"
   ]
  },
  {
   "cell_type": "code",
   "execution_count": 2,
   "metadata": {},
   "outputs": [],
   "source": [
    "path='/storage/candles/new_20200123'\n",
    "data_path=path+'/prices_30m'"
   ]
  },
  {
   "cell_type": "code",
   "execution_count": 3,
   "metadata": {},
   "outputs": [],
   "source": [
    "securities = ('AUD/CHF',\n",
    "              'AUD/JPY',\n",
    "              'AUD/USD',\n",
    "              'AUS200',\n",
    "              'CAD/CHF',\n",
    "              'CAD/JPY',\n",
    "              'EUR/AUD',\n",
    "              'EUR/GBP',\n",
    "              'EUR/JPY',\n",
    "              'EUR/NZD',\n",
    "              'EUR/TRY',\n",
    "              'GBP/AUD',\n",
    "              'GBP/CAD',\n",
    "              'GBP/CHF',\n",
    "              'GBP/JPY',\n",
    "              'GBP/NZD',\n",
    "              'GBP/USD',\n",
    "              'NAS100',\n",
    "              'NZD/CAD',\n",
    "              'NZD/CHF',\n",
    "              'NZD/JPY',\n",
    "              'NZD/USD',\n",
    "              'SPX500',\n",
    "              'US30',\n",
    "              'USD/NOK',\n",
    "              'USD/SEK',\n",
    "              'XAU/USD',\n",
    "              )"
   ]
  },
  {
   "cell_type": "code",
   "execution_count": 4,
   "metadata": {},
   "outputs": [
    {
     "name": "stdout",
     "output_type": "stream",
     "text": [
      "AUD/CHF AUD_CHF_data_20200115.csv\n",
      "AUD/JPY AUD_JPY_data_20200115.csv\n",
      "AUD/USD AUD_USD_data_20200115.csv\n",
      "AUS200 AUS200_data_20200115.csv\n",
      "CAD/CHF CAD_CHF_data_20200115.csv\n",
      "CAD/JPY CAD_JPY_data_20200115.csv\n",
      "EUR/AUD EUR_AUD_data_20200115.csv\n",
      "EUR/GBP EUR_GBP_data_20200115.csv\n",
      "EUR/JPY EUR_JPY_data_20200115.csv\n",
      "EUR/NZD EUR_NZD_data_20200115.csv\n",
      "EUR/TRY EUR_TRY_data_20200115.csv\n",
      "GBP/AUD GBP_AUD_data_20200115.csv\n",
      "GBP/CAD GBP_CAD_data_20200115.csv\n",
      "GBP/CHF GBP_CHF_data_20200115.csv\n",
      "GBP/JPY GBP_JPY_data_20200115.csv\n",
      "GBP/NZD GBP_NZD_data_20200115.csv\n",
      "GBP/USD GBP_USD_data_20200115.csv\n",
      "NAS100 NAS100_data_20200115.csv\n",
      "NZD/CAD NZD_CAD_data_20200115.csv\n",
      "NZD/CHF NZD_CHF_data_20200115.csv\n",
      "NZD/JPY NZD_JPY_data_20200115.csv\n",
      "NZD/USD NZD_USD_data_20200115.csv\n",
      "SPX500 SPX500_data_20200115.csv\n",
      "US30 US30_data_20200115.csv\n",
      "USD/NOK USD_NOK_data_20200115.csv\n",
      "USD/SEK USD_SEK_data_20200115.csv\n",
      "XAU/USD XAU_USD_data_20200115.csv\n"
     ]
    }
   ],
   "source": [
    "for instrument in securities:\n",
    "    dir_name=instrument.replace('/','_')\n",
    "    price_data_path=data_path+'/'+dir_name\n",
    "    files = os.listdir(price_data_path)\n",
    "    files.sort()\n",
    "    first_file=True\n",
    "    for name in files:\n",
    "        if((name.find('_data_')!=-1) and (name.endswith('.csv'))):\n",
    "            #print('filename', name)\n",
    "            if(first_file):\n",
    "                data=pd.read_csv(price_data_path+'/'+name, index_col='date', parse_dates=True)\n",
    "                first_file=False\n",
    "            else:     \n",
    "                akt_data=pd.read_csv(price_data_path+'/'+name, index_col='date', parse_dates=True)    \n",
    "                # Merge in data\n",
    "                data=pd.concat([data, akt_data], ignore_index=False)\n",
    "            \n",
    "    # remove duplicates\n",
    "    data=data.reset_index().drop_duplicates(subset='date',keep='first').set_index('date')\n",
    "\n",
    "    # Change time, date to New York timezone\n",
    "    data = data.tz_localize(tz='UTC')\n",
    "    data = data.tz_convert(tz='US/Eastern')\n",
    "\n",
    "    # write merged data to file\n",
    "    fname=instrument.replace('/','_')+'_data_'+data.index[-1].strftime(\"%Y%m%d\")+'.csv'\n",
    "    data.to_csv(data_path+'/merged/'+fname, index_label='date')\n",
    "    print(instrument, fname)    \n",
    "         "
   ]
  },
  {
   "cell_type": "code",
   "execution_count": null,
   "metadata": {},
   "outputs": [],
   "source": []
  },
  {
   "cell_type": "code",
   "execution_count": null,
   "metadata": {},
   "outputs": [],
   "source": []
  },
  {
   "cell_type": "code",
   "execution_count": null,
   "metadata": {},
   "outputs": [],
   "source": []
  }
 ],
 "metadata": {
  "kernelspec": {
   "display_name": "Python 3",
   "language": "python",
   "name": "python3"
  },
  "language_info": {
   "codemirror_mode": {
    "name": "ipython",
    "version": 3
   },
   "file_extension": ".py",
   "mimetype": "text/x-python",
   "name": "python",
   "nbconvert_exporter": "python",
   "pygments_lexer": "ipython3",
   "version": "3.6.8"
  }
 },
 "nbformat": 4,
 "nbformat_minor": 2
}

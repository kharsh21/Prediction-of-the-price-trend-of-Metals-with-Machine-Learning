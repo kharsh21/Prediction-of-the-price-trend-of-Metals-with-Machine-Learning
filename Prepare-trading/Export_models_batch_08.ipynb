{
 "cells": [
  {
   "cell_type": "markdown",
   "metadata": {},
   "source": [
    "Image classification"
   ]
  },
  {
   "cell_type": "code",
   "execution_count": 1,
   "metadata": {},
   "outputs": [],
   "source": [
    "%reload_ext autoreload\n",
    "%autoreload 2\n",
    "%matplotlib inline"
   ]
  },
  {
   "cell_type": "code",
   "execution_count": 2,
   "metadata": {},
   "outputs": [],
   "source": [
    "from fastai.vision import *\n",
    "from fastai.metrics import error_rate\n",
    "import os"
   ]
  },
  {
   "cell_type": "code",
   "execution_count": 3,
   "metadata": {},
   "outputs": [],
   "source": [
    "bs = 32\n",
    "# bs = 16   # uncomment this line if you run out of memory even after clicking Kernel->Restart"
   ]
  },
  {
   "cell_type": "code",
   "execution_count": 4,
   "metadata": {},
   "outputs": [],
   "source": [
    "path = '/storage/candles/new_20200123'\n",
    "model_path=path+'/models08'\n",
    "export_path=path+'/modelexports08'\n",
    "image_data_path=path+'/images08'\n",
    "np.random.seed(2)\n",
    "pat = r'_L([S0L])\\.png$'"
   ]
  },
  {
   "cell_type": "code",
   "execution_count": 5,
   "metadata": {},
   "outputs": [
    {
     "name": "stdout",
     "output_type": "stream",
     "text": [
      "/storage/candles/new_20200123/models08/AUS200_32_RN34_Model_4.pth\n",
      "['0', 'L', 'S'] 3 3\n",
      "this Learner object self-destroyed - it still exists, but no longer usable\n",
      "/storage/candles/new_20200123/models08/GBP_AUD_56_RN34_Model_4.pth\n",
      "['0', 'L', 'S'] 3 3\n",
      "this Learner object self-destroyed - it still exists, but no longer usable\n",
      "/storage/candles/new_20200123/models08/EUR_JPY_32_RN34_Model_4.pth\n",
      "['0', 'L', 'S'] 3 3\n",
      "this Learner object self-destroyed - it still exists, but no longer usable\n",
      "/storage/candles/new_20200123/models08/CAD_JPY_32_RN34_Model_4.pth\n",
      "['0', 'L', 'S'] 3 3\n",
      "this Learner object self-destroyed - it still exists, but no longer usable\n",
      "/storage/candles/new_20200123/models08/NZD_USD_32_RN34_Model_4.pth\n",
      "['0', 'L', 'S'] 3 3\n",
      "this Learner object self-destroyed - it still exists, but no longer usable\n",
      "/storage/candles/new_20200123/models08/EUR_AUD_56_RN34_Model_4.pth\n",
      "['0', 'L', 'S'] 3 3\n",
      "this Learner object self-destroyed - it still exists, but no longer usable\n",
      "/storage/candles/new_20200123/models08/GBP_CHF_32_RN34_Model_4.pth\n",
      "['0', 'L', 'S'] 3 3\n",
      "this Learner object self-destroyed - it still exists, but no longer usable\n",
      "/storage/candles/new_20200123/models08/USD_NOK_32_RN34_Model_4.pth\n",
      "['0', 'L', 'S'] 3 3\n",
      "this Learner object self-destroyed - it still exists, but no longer usable\n",
      "/storage/candles/new_20200123/models08/AUD_USD_56_RN34_Model_4.pth\n",
      "['0', 'L', 'S'] 3 3\n",
      "this Learner object self-destroyed - it still exists, but no longer usable\n",
      "/storage/candles/new_20200123/models08/USD_SEK_56_RN34_Model_4.pth\n",
      "['0', 'L', 'S'] 3 3\n",
      "this Learner object self-destroyed - it still exists, but no longer usable\n",
      "/storage/candles/new_20200123/models08/NZD_CAD_56_RN34_Model_4.pth\n",
      "['0', 'L', 'S'] 3 3\n",
      "this Learner object self-destroyed - it still exists, but no longer usable\n",
      "/storage/candles/new_20200123/models08/US30_32_RN34_Model_4.pth\n",
      "['0', 'L', 'S'] 3 3\n",
      "this Learner object self-destroyed - it still exists, but no longer usable\n",
      "/storage/candles/new_20200123/models08/XAU_USD_56_RN34_Model_4.pth\n",
      "['0', 'L', 'S'] 3 3\n",
      "this Learner object self-destroyed - it still exists, but no longer usable\n",
      "/storage/candles/new_20200123/models08/GBP_JPY_56_RN34_Model_4.pth\n",
      "['0', 'L', 'S'] 3 3\n",
      "this Learner object self-destroyed - it still exists, but no longer usable\n",
      "/storage/candles/new_20200123/models08/AUD_CHF_56_RN34_Model_4.pth\n",
      "['0', 'L', 'S'] 3 3\n",
      "this Learner object self-destroyed - it still exists, but no longer usable\n",
      "/storage/candles/new_20200123/models08/EUR_GBP_56_RN34_Model_4.pth\n",
      "['0', 'L', 'S'] 3 3\n",
      "this Learner object self-destroyed - it still exists, but no longer usable\n",
      "/storage/candles/new_20200123/models08/SPX500_56_RN34_Model_4.pth\n",
      "['0', 'L', 'S'] 3 3\n",
      "this Learner object self-destroyed - it still exists, but no longer usable\n",
      "/storage/candles/new_20200123/models08/NAS100_32_RN34_Model_4.pth\n",
      "['0', 'L', 'S'] 3 3\n",
      "this Learner object self-destroyed - it still exists, but no longer usable\n",
      "/storage/candles/new_20200123/models08/EUR_TRY_56_RN34_Model_4.pth\n",
      "['0', 'L', 'S'] 3 3\n",
      "this Learner object self-destroyed - it still exists, but no longer usable\n",
      "/storage/candles/new_20200123/models08/EUR_NZD_32_RN34_Model_4.pth\n",
      "['0', 'L', 'S'] 3 3\n",
      "this Learner object self-destroyed - it still exists, but no longer usable\n",
      "/storage/candles/new_20200123/models08/GBP_USD_56_RN34_Model_4.pth\n",
      "['0', 'L', 'S'] 3 3\n",
      "this Learner object self-destroyed - it still exists, but no longer usable\n",
      "/storage/candles/new_20200123/models08/NZD_JPY_56_RN34_Model_4.pth\n",
      "['0', 'L', 'S'] 3 3\n",
      "this Learner object self-destroyed - it still exists, but no longer usable\n",
      "/storage/candles/new_20200123/models08/AUD_JPY_32_RN34_Model_4.pth\n",
      "['0', 'L', 'S'] 3 3\n",
      "this Learner object self-destroyed - it still exists, but no longer usable\n",
      "/storage/candles/new_20200123/models08/CAD_CHF_56_RN34_Model_4.pth\n",
      "['0', 'L', 'S'] 3 3\n",
      "this Learner object self-destroyed - it still exists, but no longer usable\n",
      "/storage/candles/new_20200123/models08/NZD_CHF_32_RN34_Model_4.pth\n",
      "['0', 'L', 'S'] 3 3\n",
      "this Learner object self-destroyed - it still exists, but no longer usable\n",
      "/storage/candles/new_20200123/models08/GBP_CAD_32_RN34_Model_4.pth\n",
      "['0', 'L', 'S'] 3 3\n",
      "this Learner object self-destroyed - it still exists, but no longer usable\n",
      "/storage/candles/new_20200123/models08/GBP_NZD_56_RN34_Model_4.pth\n",
      "['0', 'L', 'S'] 3 3\n",
      "this Learner object self-destroyed - it still exists, but no longer usable\n"
     ]
    }
   ],
   "source": [
    "files = os.listdir(model_path)\n",
    "for name in files:\n",
    "    if name.endswith(\"RN34_Model_4.pth\"):\n",
    "        print(model_path+'/'+name)\n",
    "            \n",
    "        if(name.count('_')==5):\n",
    "            instrument=name.split('_')[0]+'_'+name.split('_')[1]\n",
    "            days=name.split('_')[2]\n",
    "        else:\n",
    "            instrument=name.split('_')[0]\n",
    "            days=name.split('_')[1]\n",
    "        model_fname=model_path+'/'+name.split('.pth')[0]\n",
    "        akt_image_data_path=image_data_path+'/'+instrument+'_'+str(days)\n",
    "        model_export=export_path+'/'+instrument+'_RN34_'+str(days)+'d_Model_export_1.pkl'\n",
    "        if (os.path.exists(model_export) == True):\n",
    "            print('file exist: '+model_export)\n",
    "        else:\n",
    "            # Read-in model\n",
    "            fnames = get_image_files(akt_image_data_path)\n",
    "            data = ImageDataBunch.from_name_re(akt_image_data_path, fnames, pat, size=224, bs=bs).normalize(imagenet_stats)\n",
    "            learn = cnn_learner(data, models.resnet34, metrics=error_rate)\n",
    "            learn.load(model_fname)\n",
    "            print(data.classes, len(data.classes),data.c)\n",
    "            # Export model\n",
    "            learn.export(model_export, destroy=True)"
   ]
  },
  {
   "cell_type": "code",
   "execution_count": null,
   "metadata": {},
   "outputs": [],
   "source": []
  }
 ],
 "metadata": {
  "kernelspec": {
   "display_name": "Python 3",
   "language": "python",
   "name": "python3"
  },
  "language_info": {
   "codemirror_mode": {
    "name": "ipython",
    "version": 3
   },
   "file_extension": ".py",
   "mimetype": "text/x-python",
   "name": "python",
   "nbconvert_exporter": "python",
   "pygments_lexer": "ipython3",
   "version": "3.6.8"
  }
 },
 "nbformat": 4,
 "nbformat_minor": 2
}

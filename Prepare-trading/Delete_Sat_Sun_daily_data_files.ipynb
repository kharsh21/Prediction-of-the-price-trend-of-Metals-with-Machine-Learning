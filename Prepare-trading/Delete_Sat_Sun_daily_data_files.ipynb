{
 "cells": [
  {
   "cell_type": "markdown",
   "metadata": {},
   "source": [
    "Delete Rows with Saturday or Sunday in data files"
   ]
  },
  {
   "cell_type": "code",
   "execution_count": 1,
   "metadata": {},
   "outputs": [],
   "source": [
    "import pandas as pd\n",
    "import fxcmpy\n",
    "from pylab import plt\n",
    "import datetime as dt\n",
    "import numpy as np\n",
    "import time\n",
    "import os\n",
    "import sys\n",
    "%matplotlib inline\n",
    "plt.style.use('seaborn')"
   ]
  },
  {
   "cell_type": "code",
   "execution_count": 4,
   "metadata": {},
   "outputs": [],
   "source": [
    "path='/storage/candles/new_20200123'\n",
    "data_path_in=path+'/prices_daily/NY-tz'\n",
    "data_path_out=path+'/prices_daily/NY-tz-corr'"
   ]
  },
  {
   "cell_type": "code",
   "execution_count": 5,
   "metadata": {},
   "outputs": [
    {
     "name": "stdout",
     "output_type": "stream",
     "text": [
      "filename AUD_CHF_data_D1_20200113_NY.csv\n",
      "AUD_CHF_data_D1_20200113_NY_NY_c.csv\n",
      "filename AUD_JPY_data_D1_20200113_NY.csv\n",
      "AUD_JPY_data_D1_20200113_NY_NY_c.csv\n",
      "filename AUD_USD_data_D1_20200113_NY.csv\n",
      "AUD_USD_data_D1_20200113_NY_NY_c.csv\n",
      "filename AUS200_data_D1_20200113_NY.csv\n",
      "AUS200_data_D1_20200113_NY_NY_c.csv\n",
      "filename CAD_CHF_data_D1_20200113_NY.csv\n",
      "CAD_CHF_data_D1_20200113_NY_NY_c.csv\n",
      "filename CAD_JPY_data_D1_20200113_NY.csv\n",
      "CAD_JPY_data_D1_20200113_NY_NY_c.csv\n",
      "filename EUR_AUD_data_D1_20200113_NY.csv\n",
      "EUR_AUD_data_D1_20200113_NY_NY_c.csv\n",
      "filename EUR_GBP_data_D1_20200113_NY.csv\n",
      "EUR_GBP_data_D1_20200113_NY_NY_c.csv\n",
      "filename EUR_JPY_data_D1_20200113_NY.csv\n",
      "EUR_JPY_data_D1_20200113_NY_NY_c.csv\n",
      "filename EUR_NZD_data_D1_20200113_NY.csv\n",
      "EUR_NZD_data_D1_20200113_NY_NY_c.csv\n",
      "filename EUR_TRY_data_D1_20200113_NY.csv\n",
      "EUR_TRY_data_D1_20200113_NY_NY_c.csv\n",
      "filename GBP_AUD_data_D1_20200113_NY.csv\n",
      "GBP_AUD_data_D1_20200113_NY_NY_c.csv\n",
      "filename GBP_CAD_data_D1_20200113_NY.csv\n",
      "GBP_CAD_data_D1_20200113_NY_NY_c.csv\n",
      "filename GBP_CHF_data_D1_20200113_NY.csv\n",
      "GBP_CHF_data_D1_20200113_NY_NY_c.csv\n",
      "filename GBP_JPY_data_D1_20200113_NY.csv\n",
      "GBP_JPY_data_D1_20200113_NY_NY_c.csv\n",
      "filename GBP_NZD_data_D1_20200113_NY.csv\n",
      "GBP_NZD_data_D1_20200113_NY_NY_c.csv\n",
      "filename GBP_USD_data_D1_20200113_NY.csv\n",
      "GBP_USD_data_D1_20200113_NY_NY_c.csv\n",
      "filename NAS100_data_D1_20200113_NY.csv\n",
      "NAS100_data_D1_20200113_NY_NY_c.csv\n",
      "filename NZD_CAD_data_D1_20200113_NY.csv\n",
      "NZD_CAD_data_D1_20200113_NY_NY_c.csv\n",
      "filename NZD_CHF_data_D1_20200113_NY.csv\n",
      "NZD_CHF_data_D1_20200113_NY_NY_c.csv\n",
      "filename NZD_JPY_data_D1_20200113_NY.csv\n",
      "NZD_JPY_data_D1_20200113_NY_NY_c.csv\n",
      "filename NZD_USD_data_D1_20200113_NY.csv\n",
      "NZD_USD_data_D1_20200113_NY_NY_c.csv\n",
      "filename SPX500_data_D1_20200113_NY.csv\n",
      "SPX500_data_D1_20200113_NY_NY_c.csv\n",
      "filename US30_data_D1_20200113_NY.csv\n",
      "US30_data_D1_20200113_NY_NY_c.csv\n",
      "filename USD_NOK_data_D1_20200113_NY.csv\n",
      "USD_NOK_data_D1_20200113_NY_NY_c.csv\n",
      "filename USD_SEK_data_D1_20200113_NY.csv\n",
      "USD_SEK_data_D1_20200113_NY_NY_c.csv\n",
      "filename XAU_USD_data_D1_20200113_NY.csv\n",
      "XAU_USD_data_D1_20200113_NY_NY_c.csv\n"
     ]
    }
   ],
   "source": [
    "files = os.listdir(data_path_in)\n",
    "files.sort()\n",
    "for name in files:\n",
    "    if(name.endswith('.csv')):\n",
    "        print('filename', name)\n",
    "        data=pd.read_csv(data_path_in+'/'+name, index_col='date', parse_dates=True)\n",
    "        \n",
    "        # delete rows with Saturday or Sunday data\n",
    "        data['weekday'] = data.index.dayofweek\n",
    "        data = data.loc[data['weekday'] < 5]\n",
    "\n",
    "        # write data to file\n",
    "        name=name.split('.csv')[0]+'_NY_c.csv'\n",
    "        data.to_csv(data_path_out+'/'+name, index_label='date')\n",
    "        print( name)    "
   ]
  },
  {
   "cell_type": "code",
   "execution_count": null,
   "metadata": {},
   "outputs": [],
   "source": []
  }
 ],
 "metadata": {
  "kernelspec": {
   "display_name": "Python 3",
   "language": "python",
   "name": "python3"
  },
  "language_info": {
   "codemirror_mode": {
    "name": "ipython",
    "version": 3
   },
   "file_extension": ".py",
   "mimetype": "text/x-python",
   "name": "python",
   "nbconvert_exporter": "python",
   "pygments_lexer": "ipython3",
   "version": "3.6.8"
  }
 },
 "nbformat": 4,
 "nbformat_minor": 2
}

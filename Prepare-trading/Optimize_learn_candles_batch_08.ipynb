{
 "cells": [
  {
   "cell_type": "code",
   "execution_count": 1,
   "metadata": {},
   "outputs": [],
   "source": [
    "%reload_ext autoreload\n",
    "%autoreload 2\n",
    "%matplotlib inline"
   ]
  },
  {
   "cell_type": "code",
   "execution_count": 2,
   "metadata": {},
   "outputs": [],
   "source": [
    "from fastai.vision import *\n",
    "from fastai.metrics import error_rate"
   ]
  },
  {
   "cell_type": "code",
   "execution_count": 3,
   "metadata": {},
   "outputs": [],
   "source": [
    "bs = 32\n",
    "# bs = 16   # uncomment this line if you run out of memory even after clicking Kernel->Restart"
   ]
  },
  {
   "cell_type": "code",
   "execution_count": 4,
   "metadata": {},
   "outputs": [],
   "source": [
    "securities = {'AUD_CHF':56,\n",
    "              'AUD_JPY':32,\n",
    "              'AUD_USD':56,\n",
    "              'AUS200':32,\n",
    "              'CAD_CHF':56,\n",
    "              'CAD_JPY':32,\n",
    "              'EUR_AUD':56,\n",
    "              'EUR_GBP':56,\n",
    "              'EUR_JPY':32,\n",
    "              'EUR_NZD':32,\n",
    "              'EUR_TRY':56,\n",
    "              'GBP_AUD':56,\n",
    "              'GBP_CAD':32,\n",
    "              'GBP_CHF':32,\n",
    "              'GBP_JPY':56,\n",
    "              'GBP_NZD':56,\n",
    "              'GBP_USD':56,\n",
    "              'NAS100':32,\n",
    "              'NZD_CAD':56,\n",
    "              'NZD_CHF':32,\n",
    "              'NZD_JPY':56,\n",
    "              'NZD_USD':32,\n",
    "              'SPX500':56,\n",
    "              'US30':32,\n",
    "              'USD_NOK':32,\n",
    "              'USD_SEK':56,\n",
    "              'XAU_USD':56,\n",
    "            }\n",
    "\n",
    "filesel ={'AUD_CHF':'1a',\n",
    "         'AUD_JPY':'1b',\n",
    "         'AUD_USD':'1a',\n",
    "         'AUS200':'1a',\n",
    "         'CAD_CHF':'1a',\n",
    "         'CAD_JPY':'1b',\n",
    "         'EUR_AUD':'1b',\n",
    "         'EUR_GBP':'1b',\n",
    "         'EUR_JPY':'1b',\n",
    "         'EUR_NZD':'1b',\n",
    "         'EUR_TRY':'1',\n",
    "         'GBP_AUD':'1b',\n",
    "         'GBP_CAD':'1a',\n",
    "         'GBP_CHF':'1',\n",
    "         'GBP_JPY':'1a',\n",
    "         'GBP_NZD':'1',\n",
    "         'GBP_USD':'1b',\n",
    "         'NAS100':'1b',\n",
    "         'NZD_CAD':'1b',\n",
    "         'NZD_CHF':'1a',\n",
    "         'NZD_JPY':'1a',\n",
    "         'NZD_USD':'1',\n",
    "         'SPX500':'1b',\n",
    "         'US30':'1a',\n",
    "         'USD_NOK':'1b',\n",
    "         'USD_SEK':'1a',\n",
    "         'XAU_USD':'1a',\n",
    "            }"
   ]
  },
  {
   "cell_type": "code",
   "execution_count": null,
   "metadata": {
    "scrolled": true
   },
   "outputs": [],
   "source": [
    "keys=[*securities]"
   ]
  },
  {
   "cell_type": "code",
   "execution_count": null,
   "metadata": {},
   "outputs": [],
   "source": [
    "request_period='D1'\n",
    "path = '/storage/candles/new_20200123'\n",
    "model_path=path+'/models08'\n",
    "#image_data_path=path+'/images/'+instrument+'_'+str(days)\n",
    "#model_fname=model_path+'/'+instrument+'_'+str(days)+'_RN34_Model_1'\n",
    "#model_save=model_path+'/'+instrument+'_'+str(days)+'_RN34_Model_2'\n"
   ]
  },
  {
   "cell_type": "code",
   "execution_count": null,
   "metadata": {},
   "outputs": [],
   "source": [
    "#np.random.seed(2)\n",
    "pat = r'_L([S0L])\\.png$'"
   ]
  },
  {
   "cell_type": "code",
   "execution_count": null,
   "metadata": {},
   "outputs": [
    {
     "name": "stdout",
     "output_type": "stream",
     "text": [
      "AUD_CHF ['0', 'L', 'S']\n",
      "Model read:  /storage/candles/new_20200123/models08/AUD_CHF_56_RN34_Model_1a\n"
     ]
    },
    {
     "data": {
      "text/html": [
       "<table border=\"1\" class=\"dataframe\">\n",
       "  <thead>\n",
       "    <tr style=\"text-align: left;\">\n",
       "      <th>epoch</th>\n",
       "      <th>train_loss</th>\n",
       "      <th>valid_loss</th>\n",
       "      <th>error_rate</th>\n",
       "      <th>time</th>\n",
       "    </tr>\n",
       "  </thead>\n",
       "  <tbody>\n",
       "    <tr>\n",
       "      <td>0</td>\n",
       "      <td>0.480014</td>\n",
       "      <td>0.456232</td>\n",
       "      <td>0.164609</td>\n",
       "      <td>00:23</td>\n",
       "    </tr>\n",
       "    <tr>\n",
       "      <td>1</td>\n",
       "      <td>0.443172</td>\n",
       "      <td>0.452614</td>\n",
       "      <td>0.162551</td>\n",
       "      <td>00:21</td>\n",
       "    </tr>\n",
       "    <tr>\n",
       "      <td>2</td>\n",
       "      <td>0.418926</td>\n",
       "      <td>0.456859</td>\n",
       "      <td>0.160494</td>\n",
       "      <td>00:21</td>\n",
       "    </tr>\n",
       "  </tbody>\n",
       "</table>"
      ],
      "text/plain": [
       "<IPython.core.display.HTML object>"
      ]
     },
     "metadata": {},
     "output_type": "display_data"
    },
    {
     "name": "stdout",
     "output_type": "stream",
     "text": [
      "Saved:  /storage/candles/new_20200123/models08/AUD_CHF_56_RN34_Model_2a \n",
      "\n",
      "AUD_JPY ['0', 'L', 'S']\n",
      "Model read:  /storage/candles/new_20200123/models08/AUD_JPY_32_RN34_Model_1b\n"
     ]
    },
    {
     "data": {
      "text/html": [
       "<table border=\"1\" class=\"dataframe\">\n",
       "  <thead>\n",
       "    <tr style=\"text-align: left;\">\n",
       "      <th>epoch</th>\n",
       "      <th>train_loss</th>\n",
       "      <th>valid_loss</th>\n",
       "      <th>error_rate</th>\n",
       "      <th>time</th>\n",
       "    </tr>\n",
       "  </thead>\n",
       "  <tbody>\n",
       "    <tr>\n",
       "      <td>0</td>\n",
       "      <td>0.516426</td>\n",
       "      <td>0.409462</td>\n",
       "      <td>0.151329</td>\n",
       "      <td>00:22</td>\n",
       "    </tr>\n",
       "    <tr>\n",
       "      <td>1</td>\n",
       "      <td>0.493013</td>\n",
       "      <td>0.411391</td>\n",
       "      <td>0.149284</td>\n",
       "      <td>00:21</td>\n",
       "    </tr>\n",
       "    <tr>\n",
       "      <td>2</td>\n",
       "      <td>0.455208</td>\n",
       "      <td>0.412261</td>\n",
       "      <td>0.153374</td>\n",
       "      <td>00:21</td>\n",
       "    </tr>\n",
       "  </tbody>\n",
       "</table>"
      ],
      "text/plain": [
       "<IPython.core.display.HTML object>"
      ]
     },
     "metadata": {},
     "output_type": "display_data"
    },
    {
     "name": "stdout",
     "output_type": "stream",
     "text": [
      "Saved:  /storage/candles/new_20200123/models08/AUD_JPY_32_RN34_Model_2a \n",
      "\n",
      "AUD_USD ['0', 'L', 'S']\n",
      "Model read:  /storage/candles/new_20200123/models08/AUD_USD_56_RN34_Model_1a\n"
     ]
    },
    {
     "data": {
      "text/html": [
       "<table border=\"1\" class=\"dataframe\">\n",
       "  <thead>\n",
       "    <tr style=\"text-align: left;\">\n",
       "      <th>epoch</th>\n",
       "      <th>train_loss</th>\n",
       "      <th>valid_loss</th>\n",
       "      <th>error_rate</th>\n",
       "      <th>time</th>\n",
       "    </tr>\n",
       "  </thead>\n",
       "  <tbody>\n",
       "    <tr>\n",
       "      <td>0</td>\n",
       "      <td>0.447771</td>\n",
       "      <td>0.350354</td>\n",
       "      <td>0.125514</td>\n",
       "      <td>00:21</td>\n",
       "    </tr>\n",
       "    <tr>\n",
       "      <td>1</td>\n",
       "      <td>0.426281</td>\n",
       "      <td>0.352294</td>\n",
       "      <td>0.125514</td>\n",
       "      <td>00:21</td>\n",
       "    </tr>\n",
       "    <tr>\n",
       "      <td>2</td>\n",
       "      <td>0.410691</td>\n",
       "      <td>0.353651</td>\n",
       "      <td>0.123457</td>\n",
       "      <td>00:21</td>\n",
       "    </tr>\n",
       "  </tbody>\n",
       "</table>"
      ],
      "text/plain": [
       "<IPython.core.display.HTML object>"
      ]
     },
     "metadata": {},
     "output_type": "display_data"
    },
    {
     "name": "stdout",
     "output_type": "stream",
     "text": [
      "Saved:  /storage/candles/new_20200123/models08/AUD_USD_56_RN34_Model_2a \n",
      "\n",
      "AUS200 ['0', 'L', 'S']\n",
      "Model read:  /storage/candles/new_20200123/models08/AUS200_32_RN34_Model_1a\n"
     ]
    },
    {
     "data": {
      "text/html": [
       "<table border=\"1\" class=\"dataframe\">\n",
       "  <thead>\n",
       "    <tr style=\"text-align: left;\">\n",
       "      <th>epoch</th>\n",
       "      <th>train_loss</th>\n",
       "      <th>valid_loss</th>\n",
       "      <th>error_rate</th>\n",
       "      <th>time</th>\n",
       "    </tr>\n",
       "  </thead>\n",
       "  <tbody>\n",
       "    <tr>\n",
       "      <td>0</td>\n",
       "      <td>0.484770</td>\n",
       "      <td>0.427385</td>\n",
       "      <td>0.138716</td>\n",
       "      <td>00:21</td>\n",
       "    </tr>\n",
       "    <tr>\n",
       "      <td>1</td>\n",
       "      <td>0.448789</td>\n",
       "      <td>0.430019</td>\n",
       "      <td>0.134576</td>\n",
       "      <td>00:21</td>\n",
       "    </tr>\n",
       "    <tr>\n",
       "      <td>2</td>\n",
       "      <td>0.406376</td>\n",
       "      <td>0.426412</td>\n",
       "      <td>0.136646</td>\n",
       "      <td>00:21</td>\n",
       "    </tr>\n",
       "  </tbody>\n",
       "</table>"
      ],
      "text/plain": [
       "<IPython.core.display.HTML object>"
      ]
     },
     "metadata": {},
     "output_type": "display_data"
    },
    {
     "name": "stdout",
     "output_type": "stream",
     "text": [
      "Saved:  /storage/candles/new_20200123/models08/AUS200_32_RN34_Model_2a \n",
      "\n",
      "CAD_CHF ['0', 'L', 'S']\n",
      "Model read:  /storage/candles/new_20200123/models08/CAD_CHF_56_RN34_Model_1a\n"
     ]
    },
    {
     "data": {
      "text/html": [
       "<table border=\"1\" class=\"dataframe\">\n",
       "  <thead>\n",
       "    <tr style=\"text-align: left;\">\n",
       "      <th>epoch</th>\n",
       "      <th>train_loss</th>\n",
       "      <th>valid_loss</th>\n",
       "      <th>error_rate</th>\n",
       "      <th>time</th>\n",
       "    </tr>\n",
       "  </thead>\n",
       "  <tbody>\n",
       "    <tr>\n",
       "      <td>0</td>\n",
       "      <td>0.441468</td>\n",
       "      <td>0.283972</td>\n",
       "      <td>0.088477</td>\n",
       "      <td>00:21</td>\n",
       "    </tr>\n",
       "    <tr>\n",
       "      <td>1</td>\n",
       "      <td>0.445574</td>\n",
       "      <td>0.280814</td>\n",
       "      <td>0.088477</td>\n",
       "      <td>00:21</td>\n",
       "    </tr>\n",
       "    <tr>\n",
       "      <td>2</td>\n",
       "      <td>0.413199</td>\n",
       "      <td>0.280989</td>\n",
       "      <td>0.088477</td>\n",
       "      <td>00:21</td>\n",
       "    </tr>\n",
       "  </tbody>\n",
       "</table>"
      ],
      "text/plain": [
       "<IPython.core.display.HTML object>"
      ]
     },
     "metadata": {},
     "output_type": "display_data"
    },
    {
     "name": "stdout",
     "output_type": "stream",
     "text": [
      "Saved:  /storage/candles/new_20200123/models08/CAD_CHF_56_RN34_Model_2a \n",
      "\n",
      "CAD_JPY ['0', 'L', 'S']\n",
      "Model read:  /storage/candles/new_20200123/models08/CAD_JPY_32_RN34_Model_1b\n"
     ]
    },
    {
     "data": {
      "text/html": [
       "<table border=\"1\" class=\"dataframe\">\n",
       "  <thead>\n",
       "    <tr style=\"text-align: left;\">\n",
       "      <th>epoch</th>\n",
       "      <th>train_loss</th>\n",
       "      <th>valid_loss</th>\n",
       "      <th>error_rate</th>\n",
       "      <th>time</th>\n",
       "    </tr>\n",
       "  </thead>\n",
       "  <tbody>\n",
       "    <tr>\n",
       "      <td>0</td>\n",
       "      <td>0.494166</td>\n",
       "      <td>0.419253</td>\n",
       "      <td>0.149284</td>\n",
       "      <td>00:22</td>\n",
       "    </tr>\n",
       "    <tr>\n",
       "      <td>1</td>\n",
       "      <td>0.472110</td>\n",
       "      <td>0.415032</td>\n",
       "      <td>0.149284</td>\n",
       "      <td>00:21</td>\n",
       "    </tr>\n",
       "    <tr>\n",
       "      <td>2</td>\n",
       "      <td>0.432661</td>\n",
       "      <td>0.417596</td>\n",
       "      <td>0.151329</td>\n",
       "      <td>00:21</td>\n",
       "    </tr>\n",
       "  </tbody>\n",
       "</table>"
      ],
      "text/plain": [
       "<IPython.core.display.HTML object>"
      ]
     },
     "metadata": {},
     "output_type": "display_data"
    },
    {
     "name": "stdout",
     "output_type": "stream",
     "text": [
      "Saved:  /storage/candles/new_20200123/models08/CAD_JPY_32_RN34_Model_2a \n",
      "\n",
      "EUR_AUD ['0', 'L', 'S']\n",
      "Model read:  /storage/candles/new_20200123/models08/EUR_AUD_56_RN34_Model_1b\n"
     ]
    },
    {
     "data": {
      "text/html": [
       "<table border=\"1\" class=\"dataframe\">\n",
       "  <thead>\n",
       "    <tr style=\"text-align: left;\">\n",
       "      <th>epoch</th>\n",
       "      <th>train_loss</th>\n",
       "      <th>valid_loss</th>\n",
       "      <th>error_rate</th>\n",
       "      <th>time</th>\n",
       "    </tr>\n",
       "  </thead>\n",
       "  <tbody>\n",
       "    <tr>\n",
       "      <td>0</td>\n",
       "      <td>0.387696</td>\n",
       "      <td>0.343191</td>\n",
       "      <td>0.131687</td>\n",
       "      <td>00:21</td>\n",
       "    </tr>\n",
       "    <tr>\n",
       "      <td>1</td>\n",
       "      <td>0.371752</td>\n",
       "      <td>0.349095</td>\n",
       "      <td>0.135802</td>\n",
       "      <td>00:21</td>\n",
       "    </tr>\n",
       "    <tr>\n",
       "      <td>2</td>\n",
       "      <td>0.336115</td>\n",
       "      <td>0.349787</td>\n",
       "      <td>0.137860</td>\n",
       "      <td>00:21</td>\n",
       "    </tr>\n",
       "  </tbody>\n",
       "</table>"
      ],
      "text/plain": [
       "<IPython.core.display.HTML object>"
      ]
     },
     "metadata": {},
     "output_type": "display_data"
    },
    {
     "name": "stdout",
     "output_type": "stream",
     "text": [
      "Saved:  /storage/candles/new_20200123/models08/EUR_AUD_56_RN34_Model_2a \n",
      "\n",
      "EUR_GBP ['0', 'L', 'S']\n",
      "Model read:  /storage/candles/new_20200123/models08/EUR_GBP_56_RN34_Model_1b\n"
     ]
    },
    {
     "data": {
      "text/html": [
       "<table border=\"1\" class=\"dataframe\">\n",
       "  <thead>\n",
       "    <tr style=\"text-align: left;\">\n",
       "      <th>epoch</th>\n",
       "      <th>train_loss</th>\n",
       "      <th>valid_loss</th>\n",
       "      <th>error_rate</th>\n",
       "      <th>time</th>\n",
       "    </tr>\n",
       "  </thead>\n",
       "  <tbody>\n",
       "    <tr>\n",
       "      <td>0</td>\n",
       "      <td>0.426183</td>\n",
       "      <td>0.261511</td>\n",
       "      <td>0.063786</td>\n",
       "      <td>00:21</td>\n",
       "    </tr>\n",
       "    <tr>\n",
       "      <td>1</td>\n",
       "      <td>0.413765</td>\n",
       "      <td>0.258181</td>\n",
       "      <td>0.061728</td>\n",
       "      <td>00:21</td>\n",
       "    </tr>\n",
       "    <tr>\n",
       "      <td>2</td>\n",
       "      <td>0.386681</td>\n",
       "      <td>0.260651</td>\n",
       "      <td>0.061728</td>\n",
       "      <td>00:21</td>\n",
       "    </tr>\n",
       "  </tbody>\n",
       "</table>"
      ],
      "text/plain": [
       "<IPython.core.display.HTML object>"
      ]
     },
     "metadata": {},
     "output_type": "display_data"
    },
    {
     "name": "stdout",
     "output_type": "stream",
     "text": [
      "Saved:  /storage/candles/new_20200123/models08/EUR_GBP_56_RN34_Model_2a \n",
      "\n",
      "EUR_JPY ['0', 'L', 'S']\n",
      "Model read:  /storage/candles/new_20200123/models08/EUR_JPY_32_RN34_Model_1b\n"
     ]
    },
    {
     "data": {
      "text/html": [
       "<table border=\"1\" class=\"dataframe\">\n",
       "  <thead>\n",
       "    <tr style=\"text-align: left;\">\n",
       "      <th>epoch</th>\n",
       "      <th>train_loss</th>\n",
       "      <th>valid_loss</th>\n",
       "      <th>error_rate</th>\n",
       "      <th>time</th>\n",
       "    </tr>\n",
       "  </thead>\n",
       "  <tbody>\n",
       "    <tr>\n",
       "      <td>0</td>\n",
       "      <td>0.501237</td>\n",
       "      <td>0.401338</td>\n",
       "      <td>0.137014</td>\n",
       "      <td>00:21</td>\n",
       "    </tr>\n",
       "    <tr>\n",
       "      <td>1</td>\n",
       "      <td>0.448944</td>\n",
       "      <td>0.400079</td>\n",
       "      <td>0.137014</td>\n",
       "      <td>00:21</td>\n",
       "    </tr>\n",
       "    <tr>\n",
       "      <td>2</td>\n",
       "      <td>0.421831</td>\n",
       "      <td>0.399706</td>\n",
       "      <td>0.134969</td>\n",
       "      <td>00:21</td>\n",
       "    </tr>\n",
       "  </tbody>\n",
       "</table>"
      ],
      "text/plain": [
       "<IPython.core.display.HTML object>"
      ]
     },
     "metadata": {},
     "output_type": "display_data"
    },
    {
     "name": "stdout",
     "output_type": "stream",
     "text": [
      "Saved:  /storage/candles/new_20200123/models08/EUR_JPY_32_RN34_Model_2a \n",
      "\n",
      "EUR_NZD ['0', 'L', 'S']\n",
      "Model read:  /storage/candles/new_20200123/models08/EUR_NZD_32_RN34_Model_1b\n"
     ]
    },
    {
     "data": {
      "text/html": [
       "<table border=\"1\" class=\"dataframe\">\n",
       "  <thead>\n",
       "    <tr style=\"text-align: left;\">\n",
       "      <th>epoch</th>\n",
       "      <th>train_loss</th>\n",
       "      <th>valid_loss</th>\n",
       "      <th>error_rate</th>\n",
       "      <th>time</th>\n",
       "    </tr>\n",
       "  </thead>\n",
       "  <tbody>\n",
       "    <tr>\n",
       "      <td>0</td>\n",
       "      <td>0.440534</td>\n",
       "      <td>0.341098</td>\n",
       "      <td>0.106339</td>\n",
       "      <td>00:21</td>\n",
       "    </tr>\n",
       "    <tr>\n",
       "      <td>1</td>\n",
       "      <td>0.414698</td>\n",
       "      <td>0.339739</td>\n",
       "      <td>0.106339</td>\n",
       "      <td>00:21</td>\n",
       "    </tr>\n",
       "    <tr>\n",
       "      <td>2</td>\n",
       "      <td>0.383392</td>\n",
       "      <td>0.342902</td>\n",
       "      <td>0.104294</td>\n",
       "      <td>00:21</td>\n",
       "    </tr>\n",
       "  </tbody>\n",
       "</table>"
      ],
      "text/plain": [
       "<IPython.core.display.HTML object>"
      ]
     },
     "metadata": {},
     "output_type": "display_data"
    },
    {
     "name": "stdout",
     "output_type": "stream",
     "text": [
      "Saved:  /storage/candles/new_20200123/models08/EUR_NZD_32_RN34_Model_2a \n",
      "\n",
      "EUR_TRY ['0', 'L', 'S']\n",
      "Model read:  /storage/candles/new_20200123/models08/EUR_TRY_56_RN34_Model_1\n"
     ]
    },
    {
     "data": {
      "text/html": [
       "<table border=\"1\" class=\"dataframe\">\n",
       "  <thead>\n",
       "    <tr style=\"text-align: left;\">\n",
       "      <th>epoch</th>\n",
       "      <th>train_loss</th>\n",
       "      <th>valid_loss</th>\n",
       "      <th>error_rate</th>\n",
       "      <th>time</th>\n",
       "    </tr>\n",
       "  </thead>\n",
       "  <tbody>\n",
       "    <tr>\n",
       "      <td>0</td>\n",
       "      <td>0.444131</td>\n",
       "      <td>0.315004</td>\n",
       "      <td>0.090535</td>\n",
       "      <td>00:21</td>\n",
       "    </tr>\n",
       "    <tr>\n",
       "      <td>1</td>\n",
       "      <td>0.433313</td>\n",
       "      <td>0.322728</td>\n",
       "      <td>0.090535</td>\n",
       "      <td>00:21</td>\n",
       "    </tr>\n",
       "    <tr>\n",
       "      <td>2</td>\n",
       "      <td>0.389913</td>\n",
       "      <td>0.322579</td>\n",
       "      <td>0.094650</td>\n",
       "      <td>00:21</td>\n",
       "    </tr>\n",
       "  </tbody>\n",
       "</table>"
      ],
      "text/plain": [
       "<IPython.core.display.HTML object>"
      ]
     },
     "metadata": {},
     "output_type": "display_data"
    },
    {
     "name": "stdout",
     "output_type": "stream",
     "text": [
      "Saved:  /storage/candles/new_20200123/models08/EUR_TRY_56_RN34_Model_2a \n",
      "\n",
      "GBP_AUD ['0', 'L', 'S']\n",
      "Model read:  /storage/candles/new_20200123/models08/GBP_AUD_56_RN34_Model_1b\n"
     ]
    },
    {
     "data": {
      "text/html": [
       "<table border=\"1\" class=\"dataframe\">\n",
       "  <thead>\n",
       "    <tr style=\"text-align: left;\">\n",
       "      <th>epoch</th>\n",
       "      <th>train_loss</th>\n",
       "      <th>valid_loss</th>\n",
       "      <th>error_rate</th>\n",
       "      <th>time</th>\n",
       "    </tr>\n",
       "  </thead>\n",
       "  <tbody>\n",
       "    <tr>\n",
       "      <td>0</td>\n",
       "      <td>0.429173</td>\n",
       "      <td>0.351946</td>\n",
       "      <td>0.133745</td>\n",
       "      <td>00:21</td>\n",
       "    </tr>\n",
       "    <tr>\n",
       "      <td>1</td>\n",
       "      <td>0.410833</td>\n",
       "      <td>0.352612</td>\n",
       "      <td>0.135802</td>\n",
       "      <td>00:21</td>\n",
       "    </tr>\n",
       "    <tr>\n",
       "      <td>2</td>\n",
       "      <td>0.367721</td>\n",
       "      <td>0.354661</td>\n",
       "      <td>0.135802</td>\n",
       "      <td>00:21</td>\n",
       "    </tr>\n",
       "  </tbody>\n",
       "</table>"
      ],
      "text/plain": [
       "<IPython.core.display.HTML object>"
      ]
     },
     "metadata": {},
     "output_type": "display_data"
    },
    {
     "name": "stdout",
     "output_type": "stream",
     "text": [
      "Saved:  /storage/candles/new_20200123/models08/GBP_AUD_56_RN34_Model_2a \n",
      "\n",
      "GBP_CAD ['0', 'L', 'S']\n",
      "Model read:  /storage/candles/new_20200123/models08/GBP_CAD_32_RN34_Model_1a\n"
     ]
    },
    {
     "data": {
      "text/html": [
       "<table border=\"1\" class=\"dataframe\">\n",
       "  <thead>\n",
       "    <tr style=\"text-align: left;\">\n",
       "      <th>epoch</th>\n",
       "      <th>train_loss</th>\n",
       "      <th>valid_loss</th>\n",
       "      <th>error_rate</th>\n",
       "      <th>time</th>\n",
       "    </tr>\n",
       "  </thead>\n",
       "  <tbody>\n",
       "    <tr>\n",
       "      <td>0</td>\n",
       "      <td>0.338669</td>\n",
       "      <td>0.307108</td>\n",
       "      <td>0.110429</td>\n",
       "      <td>00:21</td>\n",
       "    </tr>\n",
       "    <tr>\n",
       "      <td>1</td>\n",
       "      <td>0.318255</td>\n",
       "      <td>0.309349</td>\n",
       "      <td>0.110429</td>\n",
       "      <td>00:21</td>\n",
       "    </tr>\n",
       "    <tr>\n",
       "      <td>2</td>\n",
       "      <td>0.288519</td>\n",
       "      <td>0.308330</td>\n",
       "      <td>0.112474</td>\n",
       "      <td>00:21</td>\n",
       "    </tr>\n",
       "  </tbody>\n",
       "</table>"
      ],
      "text/plain": [
       "<IPython.core.display.HTML object>"
      ]
     },
     "metadata": {},
     "output_type": "display_data"
    },
    {
     "name": "stdout",
     "output_type": "stream",
     "text": [
      "Saved:  /storage/candles/new_20200123/models08/GBP_CAD_32_RN34_Model_2a \n",
      "\n",
      "GBP_CHF ['0', 'L', 'S']\n",
      "Model read:  /storage/candles/new_20200123/models08/GBP_CHF_32_RN34_Model_1\n"
     ]
    },
    {
     "data": {
      "text/html": [
       "<table border=\"1\" class=\"dataframe\">\n",
       "  <thead>\n",
       "    <tr style=\"text-align: left;\">\n",
       "      <th>epoch</th>\n",
       "      <th>train_loss</th>\n",
       "      <th>valid_loss</th>\n",
       "      <th>error_rate</th>\n",
       "      <th>time</th>\n",
       "    </tr>\n",
       "  </thead>\n",
       "  <tbody>\n",
       "    <tr>\n",
       "      <td>0</td>\n",
       "      <td>0.268944</td>\n",
       "      <td>0.151935</td>\n",
       "      <td>0.044990</td>\n",
       "      <td>00:21</td>\n",
       "    </tr>\n",
       "    <tr>\n",
       "      <td>1</td>\n",
       "      <td>0.248855</td>\n",
       "      <td>0.156161</td>\n",
       "      <td>0.042945</td>\n",
       "      <td>00:21</td>\n",
       "    </tr>\n",
       "    <tr>\n",
       "      <td>2</td>\n",
       "      <td>0.222222</td>\n",
       "      <td>0.156685</td>\n",
       "      <td>0.040900</td>\n",
       "      <td>00:21</td>\n",
       "    </tr>\n",
       "  </tbody>\n",
       "</table>"
      ],
      "text/plain": [
       "<IPython.core.display.HTML object>"
      ]
     },
     "metadata": {},
     "output_type": "display_data"
    },
    {
     "name": "stdout",
     "output_type": "stream",
     "text": [
      "Saved:  /storage/candles/new_20200123/models08/GBP_CHF_32_RN34_Model_2a \n",
      "\n",
      "GBP_JPY ['0', 'L', 'S']\n",
      "Model read:  /storage/candles/new_20200123/models08/GBP_JPY_56_RN34_Model_1a\n"
     ]
    },
    {
     "data": {
      "text/html": [
       "<table border=\"1\" class=\"dataframe\">\n",
       "  <thead>\n",
       "    <tr style=\"text-align: left;\">\n",
       "      <th>epoch</th>\n",
       "      <th>train_loss</th>\n",
       "      <th>valid_loss</th>\n",
       "      <th>error_rate</th>\n",
       "      <th>time</th>\n",
       "    </tr>\n",
       "  </thead>\n",
       "  <tbody>\n",
       "    <tr>\n",
       "      <td>0</td>\n",
       "      <td>0.494717</td>\n",
       "      <td>0.397583</td>\n",
       "      <td>0.164609</td>\n",
       "      <td>00:21</td>\n",
       "    </tr>\n",
       "    <tr>\n",
       "      <td>1</td>\n",
       "      <td>0.467505</td>\n",
       "      <td>0.401269</td>\n",
       "      <td>0.162551</td>\n",
       "      <td>00:21</td>\n",
       "    </tr>\n",
       "    <tr>\n",
       "      <td>2</td>\n",
       "      <td>0.452233</td>\n",
       "      <td>0.400374</td>\n",
       "      <td>0.166667</td>\n",
       "      <td>00:21</td>\n",
       "    </tr>\n",
       "  </tbody>\n",
       "</table>"
      ],
      "text/plain": [
       "<IPython.core.display.HTML object>"
      ]
     },
     "metadata": {},
     "output_type": "display_data"
    },
    {
     "name": "stdout",
     "output_type": "stream",
     "text": [
      "Saved:  /storage/candles/new_20200123/models08/GBP_JPY_56_RN34_Model_2a \n",
      "\n",
      "GBP_NZD ['0', 'L', 'S']\n",
      "Model read:  /storage/candles/new_20200123/models08/GBP_NZD_56_RN34_Model_1\n"
     ]
    },
    {
     "data": {
      "text/html": [
       "<table border=\"1\" class=\"dataframe\">\n",
       "  <thead>\n",
       "    <tr style=\"text-align: left;\">\n",
       "      <th>epoch</th>\n",
       "      <th>train_loss</th>\n",
       "      <th>valid_loss</th>\n",
       "      <th>error_rate</th>\n",
       "      <th>time</th>\n",
       "    </tr>\n",
       "  </thead>\n",
       "  <tbody>\n",
       "    <tr>\n",
       "      <td>0</td>\n",
       "      <td>0.358575</td>\n",
       "      <td>0.251169</td>\n",
       "      <td>0.076132</td>\n",
       "      <td>00:21</td>\n",
       "    </tr>\n",
       "    <tr>\n",
       "      <td>1</td>\n",
       "      <td>0.336936</td>\n",
       "      <td>0.255828</td>\n",
       "      <td>0.080247</td>\n",
       "      <td>00:21</td>\n",
       "    </tr>\n",
       "    <tr>\n",
       "      <td>2</td>\n",
       "      <td>0.318050</td>\n",
       "      <td>0.259503</td>\n",
       "      <td>0.080247</td>\n",
       "      <td>00:21</td>\n",
       "    </tr>\n",
       "  </tbody>\n",
       "</table>"
      ],
      "text/plain": [
       "<IPython.core.display.HTML object>"
      ]
     },
     "metadata": {},
     "output_type": "display_data"
    },
    {
     "name": "stdout",
     "output_type": "stream",
     "text": [
      "Saved:  /storage/candles/new_20200123/models08/GBP_NZD_56_RN34_Model_2a \n",
      "\n",
      "GBP_USD ['0', 'L', 'S']\n",
      "Model read:  /storage/candles/new_20200123/models08/GBP_USD_56_RN34_Model_1b\n"
     ]
    },
    {
     "data": {
      "text/html": [
       "<table border=\"1\" class=\"dataframe\">\n",
       "  <thead>\n",
       "    <tr style=\"text-align: left;\">\n",
       "      <th>epoch</th>\n",
       "      <th>train_loss</th>\n",
       "      <th>valid_loss</th>\n",
       "      <th>error_rate</th>\n",
       "      <th>time</th>\n",
       "    </tr>\n",
       "  </thead>\n",
       "  <tbody>\n",
       "    <tr>\n",
       "      <td>0</td>\n",
       "      <td>0.300290</td>\n",
       "      <td>0.199010</td>\n",
       "      <td>0.069959</td>\n",
       "      <td>00:21</td>\n",
       "    </tr>\n",
       "    <tr>\n",
       "      <td>1</td>\n",
       "      <td>0.273915</td>\n",
       "      <td>0.205133</td>\n",
       "      <td>0.072016</td>\n",
       "      <td>00:21</td>\n",
       "    </tr>\n",
       "    <tr>\n",
       "      <td>2</td>\n",
       "      <td>0.247128</td>\n",
       "      <td>0.209450</td>\n",
       "      <td>0.076132</td>\n",
       "      <td>00:21</td>\n",
       "    </tr>\n",
       "  </tbody>\n",
       "</table>"
      ],
      "text/plain": [
       "<IPython.core.display.HTML object>"
      ]
     },
     "metadata": {},
     "output_type": "display_data"
    },
    {
     "name": "stdout",
     "output_type": "stream",
     "text": [
      "Saved:  /storage/candles/new_20200123/models08/GBP_USD_56_RN34_Model_2a \n",
      "\n",
      "NAS100 ['0', 'L', 'S']\n",
      "Model read:  /storage/candles/new_20200123/models08/NAS100_32_RN34_Model_1b\n"
     ]
    },
    {
     "data": {
      "text/html": [
       "<table border=\"1\" class=\"dataframe\">\n",
       "  <thead>\n",
       "    <tr style=\"text-align: left;\">\n",
       "      <th>epoch</th>\n",
       "      <th>train_loss</th>\n",
       "      <th>valid_loss</th>\n",
       "      <th>error_rate</th>\n",
       "      <th>time</th>\n",
       "    </tr>\n",
       "  </thead>\n",
       "  <tbody>\n",
       "    <tr>\n",
       "      <td>0</td>\n",
       "      <td>0.657686</td>\n",
       "      <td>0.470591</td>\n",
       "      <td>0.159509</td>\n",
       "      <td>00:21</td>\n",
       "    </tr>\n",
       "    <tr>\n",
       "      <td>1</td>\n",
       "      <td>0.620404</td>\n",
       "      <td>0.475214</td>\n",
       "      <td>0.153374</td>\n",
       "      <td>00:21</td>\n",
       "    </tr>\n",
       "    <tr>\n",
       "      <td>2</td>\n",
       "      <td>0.588818</td>\n",
       "      <td>0.477077</td>\n",
       "      <td>0.159509</td>\n",
       "      <td>00:21</td>\n",
       "    </tr>\n",
       "  </tbody>\n",
       "</table>"
      ],
      "text/plain": [
       "<IPython.core.display.HTML object>"
      ]
     },
     "metadata": {},
     "output_type": "display_data"
    },
    {
     "name": "stdout",
     "output_type": "stream",
     "text": [
      "Saved:  /storage/candles/new_20200123/models08/NAS100_32_RN34_Model_2a \n",
      "\n",
      "NZD_CAD ['0', 'L', 'S']\n",
      "Model read:  /storage/candles/new_20200123/models08/NZD_CAD_56_RN34_Model_1b\n"
     ]
    },
    {
     "data": {
      "text/html": [
       "<table border=\"1\" class=\"dataframe\">\n",
       "  <thead>\n",
       "    <tr style=\"text-align: left;\">\n",
       "      <th>epoch</th>\n",
       "      <th>train_loss</th>\n",
       "      <th>valid_loss</th>\n",
       "      <th>error_rate</th>\n",
       "      <th>time</th>\n",
       "    </tr>\n",
       "  </thead>\n",
       "  <tbody>\n",
       "    <tr>\n",
       "      <td>0</td>\n",
       "      <td>0.373554</td>\n",
       "      <td>0.328941</td>\n",
       "      <td>0.100823</td>\n",
       "      <td>00:21</td>\n",
       "    </tr>\n",
       "    <tr>\n",
       "      <td>1</td>\n",
       "      <td>0.349499</td>\n",
       "      <td>0.331663</td>\n",
       "      <td>0.106996</td>\n",
       "      <td>00:21</td>\n",
       "    </tr>\n",
       "    <tr>\n",
       "      <td>2</td>\n",
       "      <td>0.333343</td>\n",
       "      <td>0.331363</td>\n",
       "      <td>0.104938</td>\n",
       "      <td>00:21</td>\n",
       "    </tr>\n",
       "  </tbody>\n",
       "</table>"
      ],
      "text/plain": [
       "<IPython.core.display.HTML object>"
      ]
     },
     "metadata": {},
     "output_type": "display_data"
    },
    {
     "name": "stdout",
     "output_type": "stream",
     "text": [
      "Saved:  /storage/candles/new_20200123/models08/NZD_CAD_56_RN34_Model_2a \n",
      "\n",
      "NZD_CHF ['0', 'L', 'S']\n",
      "Model read:  /storage/candles/new_20200123/models08/NZD_CHF_32_RN34_Model_1a\n"
     ]
    },
    {
     "data": {
      "text/html": [
       "<table border=\"1\" class=\"dataframe\">\n",
       "  <thead>\n",
       "    <tr style=\"text-align: left;\">\n",
       "      <th>epoch</th>\n",
       "      <th>train_loss</th>\n",
       "      <th>valid_loss</th>\n",
       "      <th>error_rate</th>\n",
       "      <th>time</th>\n",
       "    </tr>\n",
       "  </thead>\n",
       "  <tbody>\n",
       "    <tr>\n",
       "      <td>0</td>\n",
       "      <td>0.436327</td>\n",
       "      <td>0.409439</td>\n",
       "      <td>0.153374</td>\n",
       "      <td>00:21</td>\n",
       "    </tr>\n",
       "    <tr>\n",
       "      <td>1</td>\n",
       "      <td>0.416046</td>\n",
       "      <td>0.410076</td>\n",
       "      <td>0.155419</td>\n",
       "      <td>00:21</td>\n",
       "    </tr>\n",
       "    <tr>\n",
       "      <td>2</td>\n",
       "      <td>0.377975</td>\n",
       "      <td>0.408299</td>\n",
       "      <td>0.153374</td>\n",
       "      <td>00:21</td>\n",
       "    </tr>\n",
       "  </tbody>\n",
       "</table>"
      ],
      "text/plain": [
       "<IPython.core.display.HTML object>"
      ]
     },
     "metadata": {},
     "output_type": "display_data"
    },
    {
     "name": "stdout",
     "output_type": "stream",
     "text": [
      "Saved:  /storage/candles/new_20200123/models08/NZD_CHF_32_RN34_Model_2a \n",
      "\n",
      "NZD_JPY ['0', 'L', 'S']\n",
      "Model read:  /storage/candles/new_20200123/models08/NZD_JPY_56_RN34_Model_1a\n"
     ]
    },
    {
     "data": {
      "text/html": [
       "<table border=\"1\" class=\"dataframe\">\n",
       "  <thead>\n",
       "    <tr style=\"text-align: left;\">\n",
       "      <th>epoch</th>\n",
       "      <th>train_loss</th>\n",
       "      <th>valid_loss</th>\n",
       "      <th>error_rate</th>\n",
       "      <th>time</th>\n",
       "    </tr>\n",
       "  </thead>\n",
       "  <tbody>\n",
       "    <tr>\n",
       "      <td>0</td>\n",
       "      <td>0.509745</td>\n",
       "      <td>0.467346</td>\n",
       "      <td>0.170782</td>\n",
       "      <td>00:21</td>\n",
       "    </tr>\n",
       "    <tr>\n",
       "      <td>1</td>\n",
       "      <td>0.507265</td>\n",
       "      <td>0.468117</td>\n",
       "      <td>0.166667</td>\n",
       "      <td>00:21</td>\n",
       "    </tr>\n",
       "    <tr>\n",
       "      <td>2</td>\n",
       "      <td>0.478741</td>\n",
       "      <td>0.469101</td>\n",
       "      <td>0.174897</td>\n",
       "      <td>00:21</td>\n",
       "    </tr>\n",
       "  </tbody>\n",
       "</table>"
      ],
      "text/plain": [
       "<IPython.core.display.HTML object>"
      ]
     },
     "metadata": {},
     "output_type": "display_data"
    },
    {
     "name": "stdout",
     "output_type": "stream",
     "text": [
      "Saved:  /storage/candles/new_20200123/models08/NZD_JPY_56_RN34_Model_2a \n",
      "\n",
      "NZD_USD ['0', 'L', 'S']\n",
      "Model read:  /storage/candles/new_20200123/models08/NZD_USD_32_RN34_Model_1\n"
     ]
    },
    {
     "data": {
      "text/html": [
       "<table border=\"1\" class=\"dataframe\">\n",
       "  <thead>\n",
       "    <tr style=\"text-align: left;\">\n",
       "      <th>epoch</th>\n",
       "      <th>train_loss</th>\n",
       "      <th>valid_loss</th>\n",
       "      <th>error_rate</th>\n",
       "      <th>time</th>\n",
       "    </tr>\n",
       "  </thead>\n",
       "  <tbody>\n",
       "    <tr>\n",
       "      <td>0</td>\n",
       "      <td>0.388184</td>\n",
       "      <td>0.276800</td>\n",
       "      <td>0.077710</td>\n",
       "      <td>00:21</td>\n",
       "    </tr>\n",
       "    <tr>\n",
       "      <td>1</td>\n",
       "      <td>0.356439</td>\n",
       "      <td>0.280272</td>\n",
       "      <td>0.077710</td>\n",
       "      <td>00:21</td>\n",
       "    </tr>\n",
       "    <tr>\n",
       "      <td>2</td>\n",
       "      <td>0.309164</td>\n",
       "      <td>0.281072</td>\n",
       "      <td>0.085890</td>\n",
       "      <td>00:21</td>\n",
       "    </tr>\n",
       "  </tbody>\n",
       "</table>"
      ],
      "text/plain": [
       "<IPython.core.display.HTML object>"
      ]
     },
     "metadata": {},
     "output_type": "display_data"
    },
    {
     "name": "stdout",
     "output_type": "stream",
     "text": [
      "Saved:  /storage/candles/new_20200123/models08/NZD_USD_32_RN34_Model_2a \n",
      "\n",
      "SPX500 ['0', 'L', 'S']\n",
      "Model read:  /storage/candles/new_20200123/models08/SPX500_56_RN34_Model_1b\n"
     ]
    },
    {
     "data": {
      "text/html": [
       "<table border=\"1\" class=\"dataframe\">\n",
       "  <thead>\n",
       "    <tr style=\"text-align: left;\">\n",
       "      <th>epoch</th>\n",
       "      <th>train_loss</th>\n",
       "      <th>valid_loss</th>\n",
       "      <th>error_rate</th>\n",
       "      <th>time</th>\n",
       "    </tr>\n",
       "  </thead>\n",
       "  <tbody>\n",
       "    <tr>\n",
       "      <td>0</td>\n",
       "      <td>0.524996</td>\n",
       "      <td>0.389767</td>\n",
       "      <td>0.123711</td>\n",
       "      <td>00:22</td>\n",
       "    </tr>\n",
       "    <tr>\n",
       "      <td>1</td>\n",
       "      <td>0.491552</td>\n",
       "      <td>0.393521</td>\n",
       "      <td>0.127835</td>\n",
       "      <td>00:21</td>\n",
       "    </tr>\n",
       "    <tr>\n",
       "      <td>2</td>\n",
       "      <td>0.461772</td>\n",
       "      <td>0.385549</td>\n",
       "      <td>0.129897</td>\n",
       "      <td>00:21</td>\n",
       "    </tr>\n",
       "  </tbody>\n",
       "</table>"
      ],
      "text/plain": [
       "<IPython.core.display.HTML object>"
      ]
     },
     "metadata": {},
     "output_type": "display_data"
    },
    {
     "name": "stdout",
     "output_type": "stream",
     "text": [
      "Saved:  /storage/candles/new_20200123/models08/SPX500_56_RN34_Model_2a \n",
      "\n",
      "US30 ['0', 'L', 'S']\n",
      "Model read:  /storage/candles/new_20200123/models08/US30_32_RN34_Model_1a\n"
     ]
    },
    {
     "data": {
      "text/html": [
       "<table border=\"1\" class=\"dataframe\">\n",
       "  <thead>\n",
       "    <tr style=\"text-align: left;\">\n",
       "      <th>epoch</th>\n",
       "      <th>train_loss</th>\n",
       "      <th>valid_loss</th>\n",
       "      <th>error_rate</th>\n",
       "      <th>time</th>\n",
       "    </tr>\n",
       "  </thead>\n",
       "  <tbody>\n",
       "    <tr>\n",
       "      <td>0</td>\n",
       "      <td>0.511383</td>\n",
       "      <td>0.454778</td>\n",
       "      <td>0.163599</td>\n",
       "      <td>00:21</td>\n",
       "    </tr>\n",
       "    <tr>\n",
       "      <td>1</td>\n",
       "      <td>0.494223</td>\n",
       "      <td>0.453991</td>\n",
       "      <td>0.163599</td>\n",
       "      <td>00:21</td>\n",
       "    </tr>\n",
       "    <tr>\n",
       "      <td>2</td>\n",
       "      <td>0.476467</td>\n",
       "      <td>0.456346</td>\n",
       "      <td>0.163599</td>\n",
       "      <td>00:21</td>\n",
       "    </tr>\n",
       "  </tbody>\n",
       "</table>"
      ],
      "text/plain": [
       "<IPython.core.display.HTML object>"
      ]
     },
     "metadata": {},
     "output_type": "display_data"
    },
    {
     "name": "stdout",
     "output_type": "stream",
     "text": [
      "Saved:  /storage/candles/new_20200123/models08/US30_32_RN34_Model_2a \n",
      "\n",
      "USD_NOK ['0', 'L', 'S']\n",
      "Model read:  /storage/candles/new_20200123/models08/USD_NOK_32_RN34_Model_1b\n"
     ]
    },
    {
     "data": {
      "text/html": [
       "<table border=\"1\" class=\"dataframe\">\n",
       "  <thead>\n",
       "    <tr style=\"text-align: left;\">\n",
       "      <th>epoch</th>\n",
       "      <th>train_loss</th>\n",
       "      <th>valid_loss</th>\n",
       "      <th>error_rate</th>\n",
       "      <th>time</th>\n",
       "    </tr>\n",
       "  </thead>\n",
       "  <tbody>\n",
       "    <tr>\n",
       "      <td>0</td>\n",
       "      <td>0.543396</td>\n",
       "      <td>0.493115</td>\n",
       "      <td>0.177914</td>\n",
       "      <td>00:21</td>\n",
       "    </tr>\n",
       "    <tr>\n",
       "      <td>1</td>\n",
       "      <td>0.519588</td>\n",
       "      <td>0.494666</td>\n",
       "      <td>0.179959</td>\n",
       "      <td>00:21</td>\n",
       "    </tr>\n",
       "    <tr>\n",
       "      <td>2</td>\n",
       "      <td>0.474302</td>\n",
       "      <td>0.491460</td>\n",
       "      <td>0.177914</td>\n",
       "      <td>00:21</td>\n",
       "    </tr>\n",
       "  </tbody>\n",
       "</table>"
      ],
      "text/plain": [
       "<IPython.core.display.HTML object>"
      ]
     },
     "metadata": {},
     "output_type": "display_data"
    },
    {
     "name": "stdout",
     "output_type": "stream",
     "text": [
      "Saved:  /storage/candles/new_20200123/models08/USD_NOK_32_RN34_Model_2a \n",
      "\n",
      "USD_SEK ['0', 'L', 'S']\n",
      "Model read:  /storage/candles/new_20200123/models08/USD_SEK_56_RN34_Model_1a\n"
     ]
    },
    {
     "data": {
      "text/html": [
       "<table border=\"1\" class=\"dataframe\">\n",
       "  <thead>\n",
       "    <tr style=\"text-align: left;\">\n",
       "      <th>epoch</th>\n",
       "      <th>train_loss</th>\n",
       "      <th>valid_loss</th>\n",
       "      <th>error_rate</th>\n",
       "      <th>time</th>\n",
       "    </tr>\n",
       "  </thead>\n",
       "  <tbody>\n",
       "    <tr>\n",
       "      <td>0</td>\n",
       "      <td>0.439615</td>\n",
       "      <td>0.374650</td>\n",
       "      <td>0.135802</td>\n",
       "      <td>00:21</td>\n",
       "    </tr>\n",
       "    <tr>\n",
       "      <td>1</td>\n",
       "      <td>0.435857</td>\n",
       "      <td>0.383018</td>\n",
       "      <td>0.141975</td>\n",
       "      <td>00:21</td>\n",
       "    </tr>\n",
       "    <tr>\n",
       "      <td>2</td>\n",
       "      <td>0.417759</td>\n",
       "      <td>0.382258</td>\n",
       "      <td>0.135802</td>\n",
       "      <td>00:21</td>\n",
       "    </tr>\n",
       "  </tbody>\n",
       "</table>"
      ],
      "text/plain": [
       "<IPython.core.display.HTML object>"
      ]
     },
     "metadata": {},
     "output_type": "display_data"
    },
    {
     "name": "stdout",
     "output_type": "stream",
     "text": [
      "Saved:  /storage/candles/new_20200123/models08/USD_SEK_56_RN34_Model_2a \n",
      "\n",
      "XAU_USD ['0', 'L', 'S']\n",
      "Model read:  /storage/candles/new_20200123/models08/XAU_USD_56_RN34_Model_1a\n"
     ]
    },
    {
     "data": {
      "text/html": [
       "\n",
       "    <div>\n",
       "        <style>\n",
       "            /* Turns off some styling */\n",
       "            progress {\n",
       "                /* gets rid of default border in Firefox and Opera. */\n",
       "                border: none;\n",
       "                /* Needs to be in here for Safari polyfill so background images work as expected. */\n",
       "                background-size: auto;\n",
       "            }\n",
       "            .progress-bar-interrupted, .progress-bar-interrupted::-webkit-progress-bar {\n",
       "                background: #F44336;\n",
       "            }\n",
       "        </style>\n",
       "      <progress value='0' class='' max='3', style='width:300px; height:20px; vertical-align: middle;'></progress>\n",
       "      0.00% [0/3 00:00<00:00]\n",
       "    </div>\n",
       "    \n",
       "<table border=\"1\" class=\"dataframe\">\n",
       "  <thead>\n",
       "    <tr style=\"text-align: left;\">\n",
       "      <th>epoch</th>\n",
       "      <th>train_loss</th>\n",
       "      <th>valid_loss</th>\n",
       "      <th>error_rate</th>\n",
       "      <th>time</th>\n",
       "    </tr>\n",
       "  </thead>\n",
       "  <tbody>\n",
       "  </tbody>\n",
       "</table><p>\n",
       "\n",
       "    <div>\n",
       "        <style>\n",
       "            /* Turns off some styling */\n",
       "            progress {\n",
       "                /* gets rid of default border in Firefox and Opera. */\n",
       "                border: none;\n",
       "                /* Needs to be in here for Safari polyfill so background images work as expected. */\n",
       "                background-size: auto;\n",
       "            }\n",
       "            .progress-bar-interrupted, .progress-bar-interrupted::-webkit-progress-bar {\n",
       "                background: #F44336;\n",
       "            }\n",
       "        </style>\n",
       "      <progress value='11' class='' max='16', style='width:300px; height:20px; vertical-align: middle;'></progress>\n",
       "      68.75% [11/16 00:01<00:00]\n",
       "    </div>\n",
       "    "
      ],
      "text/plain": [
       "<IPython.core.display.HTML object>"
      ]
     },
     "metadata": {},
     "output_type": "display_data"
    }
   ],
   "source": [
    "for security in keys:\n",
    "    instrument=security\n",
    "    days=securities[security]\n",
    "    image_data_path=path+'/images08/'+instrument+'_'+str(days)\n",
    "    model_fname=model_path+'/'+instrument+'_'+str(days)+'_RN34_Model_'+filesel[instrument]\n",
    "    model_save=model_path+'/'+instrument+'_'+str(days)+'_RN34_Model_2a'\n",
    "    fnames = get_image_files(image_data_path)\n",
    "    data = ImageDataBunch.from_name_re(image_data_path, fnames, pat, size=224, bs=bs).normalize(imagenet_stats)\n",
    "    learn = cnn_learner(data, models.resnet34, metrics=error_rate)\n",
    "    learn.load(model_fname)\n",
    "    print(instrument, data.classes)\n",
    "    print('Model read: ',model_fname)\n",
    "    learn.unfreeze()\n",
    "    learn.fit_one_cycle(3, max_lr=3e-6)\n",
    "    learn.save(model_save)\n",
    "    print('Saved: ',model_save,'\\n')"
   ]
  },
  {
   "cell_type": "code",
   "execution_count": null,
   "metadata": {},
   "outputs": [],
   "source": []
  }
 ],
 "metadata": {
  "kernelspec": {
   "display_name": "Python 3",
   "language": "python",
   "name": "python3"
  },
  "language_info": {
   "codemirror_mode": {
    "name": "ipython",
    "version": 3
   },
   "file_extension": ".py",
   "mimetype": "text/x-python",
   "name": "python",
   "nbconvert_exporter": "python",
   "pygments_lexer": "ipython3",
   "version": "3.6.8"
  }
 },
 "nbformat": 4,
 "nbformat_minor": 2
}
